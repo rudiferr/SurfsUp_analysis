{
 "cells": [
  {
   "cell_type": "code",
   "execution_count": 1,
   "metadata": {},
   "outputs": [],
   "source": [
    "# Dependencies\n",
    "import numpy as np\n",
    "import pandas as pd\n",
    "import datetime as dt\n",
    "\n",
    "# Python SQL toolkit and Object Relational Mapper\n",
    "import sqlalchemy\n",
    "from sqlalchemy.ext.automap import automap_base\n",
    "from sqlalchemy.orm import Session\n",
    "from sqlalchemy import create_engine, func"
   ]
  },
  {
   "cell_type": "code",
   "execution_count": 3,
   "metadata": {},
   "outputs": [],
   "source": [
    "engine = create_engine(\"sqlite:///hawaii.sqlite\")\n",
    "\n",
    "# reflect an existing database into a new model\n",
    "Base = automap_base()\n",
    "# reflect the tables\n",
    "Base.prepare(engine, reflect=True)\n",
    "\n",
    "# Save references to each table\n",
    "Measurement = Base.classes.measurement\n",
    "Station = Base.classes.station"
   ]
  },
  {
   "cell_type": "code",
   "execution_count": 4,
   "metadata": {},
   "outputs": [],
   "source": [
    "# Create our session (link) from Python to the DB\n",
    "session = Session(engine)"
   ]
  },
  {
   "cell_type": "markdown",
   "metadata": {},
   "source": [
    "## D1: Determine the Summary Statistics for June"
   ]
  },
  {
   "cell_type": "code",
   "execution_count": 13,
   "metadata": {},
   "outputs": [],
   "source": [
    "# 1. Import the sqlalchemy extract function.\n",
    "from sqlalchemy import extract\n",
    "\n",
    "# 2. Write a query that filters the Measurement table to retrieve the temperatures for the month of June. \n",
    "june_10 = dt.date(2010, 6, 1)\n",
    "july_10 = dt.date(2010, 7, 1)\n",
    "june_11 = dt.date(2011, 6, 1)\n",
    "july_11 = dt.date(2011, 7, 1)\n",
    "june_12 = dt.date(2012, 6, 1)\n",
    "july_12 = dt.date(2012, 7, 1)\n",
    "june_13 = dt.date(2013, 6, 1)\n",
    "july_13 = dt.date(2013, 7, 1)\n",
    "june_14 = dt.date(2014, 6, 1)\n",
    "july_14 = dt.date(2014, 7, 1)\n",
    "june_15 = dt.date(2015, 6, 1)\n",
    "july_15 = dt.date(2015, 7, 1)\n",
    "june_16 = dt.date(2016, 6, 1)\n",
    "july_16 = dt.date(2016, 7, 1)\n",
    "june_17 = dt.date(2017, 6, 1)\n",
    "july_17 = dt.date(2017, 7, 1)\n",
    "\n",
    "results = []\n",
    "results = session.query(Measurement.date, Measurement.tobs)\n",
    "results = session.query(Measurement.date, Measurement.tobs).\\\n",
    "filter((Measurement.date >= june_10) & (Measurement.date < july_10)|\n",
    "       (Measurement.date >= june_11) & (Measurement.date < july_11)|\n",
    "       (Measurement.date >= june_12) & (Measurement.date < july_12)|\n",
    "       (Measurement.date >= june_13) & (Measurement.date < july_13)|\n",
    "       (Measurement.date >= june_14) & (Measurement.date < july_14)|\n",
    "       (Measurement.date >= june_15) & (Measurement.date < july_15)|\n",
    "       (Measurement.date >= june_16) & (Measurement.date < july_16)|\n",
    "       (Measurement.date >= june_17) & (Measurement.date < july_17)).all()"
   ]
  },
  {
   "cell_type": "code",
   "execution_count": 14,
   "metadata": {},
   "outputs": [],
   "source": [
    "#  3. Convert the June temperatures to a list.\n",
    "june_temp = list(results)"
   ]
  },
  {
   "cell_type": "code",
   "execution_count": 15,
   "metadata": {},
   "outputs": [],
   "source": [
    "# 4. Create a DataFrame from the list of temperatures for the month of June. \n",
    "june_temp_df = pd.DataFrame(results, columns=['date', 'June Temps'])\n",
    "june_temp_df = june_temp_df.set_index(june_temp_df['date'], inplace = False)"
   ]
  },
  {
   "cell_type": "code",
   "execution_count": 16,
   "metadata": {},
   "outputs": [
    {
     "data": {
      "text/html": [
       "<div>\n",
       "<style scoped>\n",
       "    .dataframe tbody tr th:only-of-type {\n",
       "        vertical-align: middle;\n",
       "    }\n",
       "\n",
       "    .dataframe tbody tr th {\n",
       "        vertical-align: top;\n",
       "    }\n",
       "\n",
       "    .dataframe thead th {\n",
       "        text-align: right;\n",
       "    }\n",
       "</style>\n",
       "<table border=\"1\" class=\"dataframe\">\n",
       "  <thead>\n",
       "    <tr style=\"text-align: right;\">\n",
       "      <th></th>\n",
       "      <th>June Temps</th>\n",
       "    </tr>\n",
       "  </thead>\n",
       "  <tbody>\n",
       "    <tr>\n",
       "      <th>count</th>\n",
       "      <td>1700.000000</td>\n",
       "    </tr>\n",
       "    <tr>\n",
       "      <th>mean</th>\n",
       "      <td>74.944118</td>\n",
       "    </tr>\n",
       "    <tr>\n",
       "      <th>std</th>\n",
       "      <td>3.257417</td>\n",
       "    </tr>\n",
       "    <tr>\n",
       "      <th>min</th>\n",
       "      <td>64.000000</td>\n",
       "    </tr>\n",
       "    <tr>\n",
       "      <th>25%</th>\n",
       "      <td>73.000000</td>\n",
       "    </tr>\n",
       "    <tr>\n",
       "      <th>50%</th>\n",
       "      <td>75.000000</td>\n",
       "    </tr>\n",
       "    <tr>\n",
       "      <th>75%</th>\n",
       "      <td>77.000000</td>\n",
       "    </tr>\n",
       "    <tr>\n",
       "      <th>max</th>\n",
       "      <td>85.000000</td>\n",
       "    </tr>\n",
       "  </tbody>\n",
       "</table>\n",
       "</div>"
      ],
      "text/plain": [
       "        June Temps\n",
       "count  1700.000000\n",
       "mean     74.944118\n",
       "std       3.257417\n",
       "min      64.000000\n",
       "25%      73.000000\n",
       "50%      75.000000\n",
       "75%      77.000000\n",
       "max      85.000000"
      ]
     },
     "execution_count": 16,
     "metadata": {},
     "output_type": "execute_result"
    }
   ],
   "source": [
    "# 5. Calculate and print out the summary statistics for the June temperature DataFrame.\n",
    "june_temp_df.describe()"
   ]
  },
  {
   "cell_type": "markdown",
   "metadata": {},
   "source": [
    "## D2: Determine the Summary Statistics for December"
   ]
  },
  {
   "cell_type": "code",
   "execution_count": 17,
   "metadata": {},
   "outputs": [],
   "source": [
    "# 6. Write a query that filters the Measurement table to retrieve the temperatures for the month of December.\n",
    "dec_10 = dt.date(2010, 12, 1)\n",
    "jan_10 = dt.date(2011, 1, 1)\n",
    "dec_11 = dt.date(2011, 12, 1)\n",
    "jan_11 = dt.date(2012, 1, 1)\n",
    "dec_12 = dt.date(2012, 12, 1)\n",
    "jan_12 = dt.date(2013, 1, 1)\n",
    "dec_13 = dt.date(2013, 12, 1)\n",
    "jan_13 = dt.date(2014, 1, 1)\n",
    "dec_14 = dt.date(2014, 12, 1)\n",
    "jan_14 = dt.date(2015, 1, 1)\n",
    "dec_15 = dt.date(2015, 12, 1)\n",
    "jan_15 = dt.date(2016, 1, 1)\n",
    "dec_16 = dt.date(2016, 12, 1)\n",
    "jan_16 = dt.date(2017, 1, 1)\n",
    "dec_17 = dt.date(2017, 12, 1)\n",
    "\n",
    "results = []\n",
    "results = session.query(Measurement.date, Measurement.tobs)\n",
    "results = session.query(Measurement.date, Measurement.tobs).\\\n",
    "filter((Measurement.date >= dec_10) & (Measurement.date < jan_10)|\n",
    "       (Measurement.date >= dec_11) & (Measurement.date < jan_11)|\n",
    "       (Measurement.date >= dec_12) & (Measurement.date < jan_12)|\n",
    "       (Measurement.date >= dec_13) & (Measurement.date < jan_13)|\n",
    "       (Measurement.date >= dec_14) & (Measurement.date < jan_14)|\n",
    "       (Measurement.date >= dec_15) & (Measurement.date < jan_15)|\n",
    "       (Measurement.date >= dec_16) & (Measurement.date < jan_16)|\n",
    "       (Measurement.date >= dec_17)).all()"
   ]
  },
  {
   "cell_type": "code",
   "execution_count": 19,
   "metadata": {},
   "outputs": [],
   "source": [
    "# 7. Convert the December temperatures to a list.\n",
    "dec_temp = list(results)"
   ]
  },
  {
   "cell_type": "code",
   "execution_count": 20,
   "metadata": {},
   "outputs": [],
   "source": [
    "# 8. Create a DataFrame from the list of temperatures for the month of December. \n",
    "dec_temp_df = pd.DataFrame(results, columns=['date', 'December Temps'])\n",
    "dec_temp_df = dec_temp_df.set_index(dec_temp_df['date'], inplace = False)"
   ]
  },
  {
   "cell_type": "code",
   "execution_count": 21,
   "metadata": {},
   "outputs": [
    {
     "data": {
      "text/html": [
       "<div>\n",
       "<style scoped>\n",
       "    .dataframe tbody tr th:only-of-type {\n",
       "        vertical-align: middle;\n",
       "    }\n",
       "\n",
       "    .dataframe tbody tr th {\n",
       "        vertical-align: top;\n",
       "    }\n",
       "\n",
       "    .dataframe thead th {\n",
       "        text-align: right;\n",
       "    }\n",
       "</style>\n",
       "<table border=\"1\" class=\"dataframe\">\n",
       "  <thead>\n",
       "    <tr style=\"text-align: right;\">\n",
       "      <th></th>\n",
       "      <th>December Temps</th>\n",
       "    </tr>\n",
       "  </thead>\n",
       "  <tbody>\n",
       "    <tr>\n",
       "      <th>count</th>\n",
       "      <td>1517.000000</td>\n",
       "    </tr>\n",
       "    <tr>\n",
       "      <th>mean</th>\n",
       "      <td>71.041529</td>\n",
       "    </tr>\n",
       "    <tr>\n",
       "      <th>std</th>\n",
       "      <td>3.745920</td>\n",
       "    </tr>\n",
       "    <tr>\n",
       "      <th>min</th>\n",
       "      <td>56.000000</td>\n",
       "    </tr>\n",
       "    <tr>\n",
       "      <th>25%</th>\n",
       "      <td>69.000000</td>\n",
       "    </tr>\n",
       "    <tr>\n",
       "      <th>50%</th>\n",
       "      <td>71.000000</td>\n",
       "    </tr>\n",
       "    <tr>\n",
       "      <th>75%</th>\n",
       "      <td>74.000000</td>\n",
       "    </tr>\n",
       "    <tr>\n",
       "      <th>max</th>\n",
       "      <td>83.000000</td>\n",
       "    </tr>\n",
       "  </tbody>\n",
       "</table>\n",
       "</div>"
      ],
      "text/plain": [
       "       December Temps\n",
       "count     1517.000000\n",
       "mean        71.041529\n",
       "std          3.745920\n",
       "min         56.000000\n",
       "25%         69.000000\n",
       "50%         71.000000\n",
       "75%         74.000000\n",
       "max         83.000000"
      ]
     },
     "execution_count": 21,
     "metadata": {},
     "output_type": "execute_result"
    }
   ],
   "source": [
    "# 9. Calculate and print out the summary statistics for the Decemeber temperature DataFrame.\n",
    "dec_temp_df.describe()"
   ]
  },
  {
   "cell_type": "code",
   "execution_count": null,
   "metadata": {},
   "outputs": [],
   "source": []
  }
 ],
 "metadata": {
  "interpreter": {
   "hash": "35886eaec88a913f29abb8f670eb2b698c7908cfac9fc264d3a20025a42cdcd5"
  },
  "kernelspec": {
   "display_name": "PythonData",
   "language": "python",
   "name": "python3"
  },
  "language_info": {
   "codemirror_mode": {
    "name": "ipython",
    "version": 3
   },
   "file_extension": ".py",
   "mimetype": "text/x-python",
   "name": "python",
   "nbconvert_exporter": "python",
   "pygments_lexer": "ipython3",
   "version": "3.9.7"
  }
 },
 "nbformat": 4,
 "nbformat_minor": 2
}
