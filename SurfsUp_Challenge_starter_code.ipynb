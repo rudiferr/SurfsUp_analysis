{
 "cells": [
  {
   "cell_type": "code",
   "execution_count": 1,
   "metadata": {},
   "outputs": [],
   "source": [
    "# Dependencies\n",
    "import numpy as np\n",
    "import pandas as pd\n",
    "import datetime as dt\n",
    "\n",
    "# Python SQL toolkit and Object Relational Mapper\n",
    "import sqlalchemy\n",
    "from sqlalchemy.ext.automap import automap_base\n",
    "from sqlalchemy.orm import Session\n",
    "from sqlalchemy import create_engine, func"
   ]
  },
  {
   "cell_type": "code",
   "execution_count": 2,
   "metadata": {},
   "outputs": [],
   "source": [
    "engine = create_engine(\"sqlite:///hawaii.sqlite\")\n",
    "\n",
    "# reflect an existing database into a new model\n",
    "Base = automap_base()\n",
    "# reflect the tables\n",
    "Base.prepare(engine, reflect=True)\n",
    "\n",
    "# Save references to each table\n",
    "Measurement = Base.classes.measurement\n",
    "Station = Base.classes.station"
   ]
  },
  {
   "cell_type": "code",
   "execution_count": 3,
   "metadata": {},
   "outputs": [],
   "source": [
    "# Create our session (link) from Python to the DB\n",
    "session = Session(engine)"
   ]
  },
  {
   "cell_type": "markdown",
   "metadata": {},
   "source": [
    "## D1: Determine the Summary Statistics for June"
   ]
  },
  {
   "cell_type": "code",
   "execution_count": 4,
   "metadata": {},
   "outputs": [],
   "source": [
    "# 1. Import the sqlalchemy extract function.\n",
    "from sqlalchemy import extract\n",
    "\n",
    "# 2. Write a query that filters the Measurement table to retrieve the temperatures for the month of June. \n",
    "june_0 = dt.date(2010, 6, 1)\n",
    "july_0 = dt.date(2010, 7, 1)\n",
    "june_1 = dt.date(2011, 6, 1)\n",
    "july_1 = dt.date(2011, 7, 1)\n",
    "june_2 = dt.date(2012, 6, 1)\n",
    "july_2 = dt.date(2012, 7, 1)\n",
    "june_3 = dt.date(2013, 6, 1)\n",
    "july_3 = dt.date(2013, 7, 1)\n",
    "june_4 = dt.date(2014, 6, 1)\n",
    "july_4 = dt.date(2014, 7, 1)\n",
    "june_5 = dt.date(2015, 6, 1)\n",
    "july_5 = dt.date(2015, 7, 1)\n",
    "june_6 = dt.date(2016, 6, 1)\n",
    "july_6 = dt.date(2016, 7, 1)\n",
    "june_7 = dt.date(2017, 6, 1)\n",
    "july_7 = dt.date(2017, 7, 1)\n",
    "\n",
    "results = []\n",
    "results = session.query(Measurement.date, Measurement.tobs)\n",
    "results = session.query(Measurement.date, Measurement.tobs).\\\n",
    "filter((Measurement.date >= june_0) & (Measurement.date < july_0)|\n",
    "       (Measurement.date >= june_1) & (Measurement.date < july_1)|\n",
    "       (Measurement.date >= june_2) & (Measurement.date < july_2)|\n",
    "       (Measurement.date >= june_3) & (Measurement.date < july_3)|\n",
    "       (Measurement.date >= june_4) & (Measurement.date < july_4)|\n",
    "       (Measurement.date >= june_5) & (Measurement.date < july_5)|\n",
    "       (Measurement.date >= june_6) & (Measurement.date < july_6)|\n",
    "       (Measurement.date >= june_7) & (Measurement.date < july_7)).all()"
   ]
  },
  {
   "cell_type": "code",
   "execution_count": 5,
   "metadata": {},
   "outputs": [],
   "source": [
    "#  3. Convert the June temperatures to a list.\n"
   ]
  },
  {
   "cell_type": "code",
   "execution_count": 6,
   "metadata": {},
   "outputs": [],
   "source": [
    "# 4. Create a DataFrame from the list of temperatures for the month of June. \n"
   ]
  },
  {
   "cell_type": "code",
   "execution_count": 7,
   "metadata": {},
   "outputs": [],
   "source": [
    "# 5. Calculate and print out the summary statistics for the June temperature DataFrame.\n"
   ]
  },
  {
   "cell_type": "markdown",
   "metadata": {},
   "source": [
    "## D2: Determine the Summary Statistics for December"
   ]
  },
  {
   "cell_type": "code",
   "execution_count": 8,
   "metadata": {},
   "outputs": [],
   "source": [
    "# 6. Write a query that filters the Measurement table to retrieve the temperatures for the month of December.\n"
   ]
  },
  {
   "cell_type": "code",
   "execution_count": 9,
   "metadata": {},
   "outputs": [],
   "source": [
    "# 7. Convert the December temperatures to a list.\n"
   ]
  },
  {
   "cell_type": "code",
   "execution_count": 10,
   "metadata": {},
   "outputs": [],
   "source": [
    "# 8. Create a DataFrame from the list of temperatures for the month of December. \n"
   ]
  },
  {
   "cell_type": "code",
   "execution_count": 11,
   "metadata": {},
   "outputs": [],
   "source": [
    "# 9. Calculate and print out the summary statistics for the Decemeber temperature DataFrame.\n"
   ]
  }
 ],
 "metadata": {
  "kernelspec": {
   "display_name": "PythonData",
   "language": "python",
   "name": "pythondata"
  },
  "language_info": {
   "codemirror_mode": {
    "name": "ipython",
    "version": 3
   },
   "file_extension": ".py",
   "mimetype": "text/x-python",
   "name": "python",
   "nbconvert_exporter": "python",
   "pygments_lexer": "ipython3",
   "version": "3.6.10"
  }
 },
 "nbformat": 4,
 "nbformat_minor": 2
}
